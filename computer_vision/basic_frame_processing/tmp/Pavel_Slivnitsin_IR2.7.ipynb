{
 "cells": [
  {
   "cell_type": "code",
   "execution_count": 41,
   "metadata": {},
   "outputs": [],
   "source": [
    "# Pavel Slivnitsin. MDS2. Image retrieval - Exercise 2.7\n",
    "\n",
    "# Import libraries\n",
    "import cv2\n",
    "import numpy as np\n",
    "\n",
    "#Из цветного в чб, из цветного в hsv, гамму менял, thresholding и обрезал изображение"
   ]
  },
  {
   "cell_type": "code",
   "execution_count": 14,
   "metadata": {},
   "outputs": [
    {
     "data": {
      "text/plain": [
       "True"
      ]
     },
     "execution_count": 14,
     "metadata": {},
     "output_type": "execute_result"
    }
   ],
   "source": [
    "# Convert image from RGB to grayscale\n",
    "\n",
    "#read image\n",
    "img = cv2.imread('sample.jpg')\n",
    "\n",
    "#convert from RGB to grayscale\n",
    "res = cv2.cvtColor(img, cv2.COLOR_BGR2GRAY)\n",
    "\n",
    "#save result image / show result image\n",
    "cv2.imwrite('result.jpg',res) #cv2.imshow('result.jpg',res)"
   ]
  },
  {
   "cell_type": "code",
   "execution_count": 20,
   "metadata": {},
   "outputs": [
    {
     "data": {
      "text/plain": [
       "True"
      ]
     },
     "execution_count": 20,
     "metadata": {},
     "output_type": "execute_result"
    }
   ],
   "source": [
    "# Resizing image\n",
    "\n",
    "#read image\n",
    "img = cv2.imread('sample.jpg')\n",
    "\n",
    "res = cv2.resize(img, (150, 150), cv2.INTER_NEAREST)\n",
    "\n",
    "#save result image / show result image\n",
    "cv2.imwrite('result.jpg',res) #cv2.imshow('result.jpg',res)"
   ]
  },
  {
   "cell_type": "code",
   "execution_count": 34,
   "metadata": {},
   "outputs": [
    {
     "data": {
      "text/plain": [
       "True"
      ]
     },
     "execution_count": 34,
     "metadata": {},
     "output_type": "execute_result"
    }
   ],
   "source": [
    "# Image rotation\n",
    "\n",
    "#read image\n",
    "img = cv2.imread('sample.jpg')\n",
    "\n",
    "(h, w, d) = img.shape\n",
    "center = (w // 2, h // 2)\n",
    "M = cv2.getRotationMatrix2D(center, 180, 1.0)\n",
    "res = cv2.warpAffine(img, M, (w, h))\n",
    "\n",
    "#save result image / show result image\n",
    "cv2.imwrite('result.jpg',res) #cv2.imshow('result.jpg',res)"
   ]
  },
  {
   "cell_type": "code",
   "execution_count": 26,
   "metadata": {},
   "outputs": [
    {
     "data": {
      "text/plain": [
       "True"
      ]
     },
     "execution_count": 26,
     "metadata": {},
     "output_type": "execute_result"
    }
   ],
   "source": [
    "# Cropping image\n",
    "\n",
    "#read image\n",
    "img = cv2.imread('sample.jpg')\n",
    "\n",
    "res = img[60:270, 220:480]\n",
    "\n",
    "#save result image / show result image\n",
    "cv2.imwrite('result.jpg',res) #cv2.imshow('result.jpg',res)"
   ]
  },
  {
   "cell_type": "code",
   "execution_count": 47,
   "metadata": {},
   "outputs": [
    {
     "data": {
      "text/plain": [
       "True"
      ]
     },
     "execution_count": 47,
     "metadata": {},
     "output_type": "execute_result"
    }
   ],
   "source": [
    "# Image Thresholding\n",
    "\n",
    "img = cv2.imread('sample.jpg')\n",
    "\n",
    "tr, res = cv2.threshold(img,127,255,cv2.THRESH_BINARY)\n",
    "\n",
    "#save result image / show result image\n",
    "cv2.imwrite('result.jpg',res) #cv2.imshow('result.jpg',res)"
   ]
  },
  {
   "cell_type": "code",
   "execution_count": 17,
   "metadata": {},
   "outputs": [
    {
     "data": {
      "text/plain": [
       "True"
      ]
     },
     "execution_count": 17,
     "metadata": {},
     "output_type": "execute_result"
    }
   ],
   "source": [
    "# Low Pass filter with 2D convolution\n",
    "\n",
    "#read image\n",
    "img = cv2.imread('sample.jpg')\n",
    "\n",
    "#prepare custom 3x3 shaped filter\n",
    "kernel = np.array([[0.0, -1.0, 0.0], \n",
    "                   [-1.0, 4.0, -1.0],\n",
    "                   [0.0, -1.0, 0.0]])\n",
    "\n",
    "kernel = kernel/(np.sum(kernel) if np.sum(kernel)!=0 else 1)\n",
    "\n",
    "#filter the source image\n",
    "res = cv2.filter2D(img,-1,kernel)\n",
    "\n",
    "#save result image / show result image\n",
    "cv2.imwrite('result.jpg',res) #cv2.imshow('result.jpg',res)"
   ]
  },
  {
   "cell_type": "code",
   "execution_count": 19,
   "metadata": {},
   "outputs": [
    {
     "data": {
      "text/plain": [
       "True"
      ]
     },
     "execution_count": 19,
     "metadata": {},
     "output_type": "execute_result"
    }
   ],
   "source": [
    "# High Pass filter with 2D convolution\n",
    "\n",
    "#read image\n",
    "img = cv2.imread('sample.jpg')\n",
    "\n",
    "#prepare custom 3x3 shaped filter\n",
    "kernel = np.array([[1.0, 1.0, 1.0], \n",
    "                   [1.0, 1.0, 1.0],\n",
    "                   [1.0, 1.0, 1.0]])\n",
    "\n",
    "kernel = kernel/(np.sum(kernel) if np.sum(kernel)!=0 else 1)\n",
    "\n",
    "#filter the source image\n",
    "res = cv2.filter2D(img,-1,kernel)\n",
    "\n",
    "#save result image / show result image\n",
    "cv2.imwrite('result.jpg',res) #cv2.imshow('result.jpg',res)"
   ]
  },
  {
   "cell_type": "code",
   "execution_count": 30,
   "metadata": {},
   "outputs": [
    {
     "data": {
      "text/plain": [
       "True"
      ]
     },
     "execution_count": 30,
     "metadata": {},
     "output_type": "execute_result"
    }
   ],
   "source": [
    "# Blurring\n",
    "\n",
    "#read image\n",
    "img = cv2.imread('sample.jpg')\n",
    "res = cv2.blur(img, (20,20))\n",
    "\n",
    "#save result image / show result image\n",
    "cv2.imwrite('result1.jpg',res) #cv2.imshow('result.jpg',res)"
   ]
  },
  {
   "cell_type": "code",
   "execution_count": 21,
   "metadata": {},
   "outputs": [
    {
     "data": {
      "text/plain": [
       "True"
      ]
     },
     "execution_count": 21,
     "metadata": {},
     "output_type": "execute_result"
    }
   ],
   "source": [
    "# Median filter\n",
    "\n",
    "#read image\n",
    "img = cv2.imread('sample.jpg')\n",
    "res = cv2.medianBlur(img,5)\n",
    "\n",
    "#save result image / show result image\n",
    "cv2.imwrite('result1.jpg',res) #cv2.imshow('result.jpg',res)"
   ]
  }
 ],
 "metadata": {
  "kernelspec": {
   "display_name": "Python 3",
   "language": "python",
   "name": "python3"
  },
  "language_info": {
   "codemirror_mode": {
    "name": "ipython",
    "version": 3
   },
   "file_extension": ".py",
   "mimetype": "text/x-python",
   "name": "python",
   "nbconvert_exporter": "python",
   "pygments_lexer": "ipython3",
   "version": "3.8.0"
  }
 },
 "nbformat": 4,
 "nbformat_minor": 4
}
